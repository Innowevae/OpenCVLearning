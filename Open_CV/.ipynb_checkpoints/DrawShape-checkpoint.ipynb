{
 "cells": [
  {
   "cell_type": "code",
   "execution_count": 1,
   "metadata": {},
   "outputs": [
    {
     "data": {
      "text/plain": [
       "<matplotlib.image.AxesImage at 0xa1ec7b8>"
      ]
     },
     "execution_count": 1,
     "metadata": {},
     "output_type": "execute_result"
    },
    {
     "data": {
      "image/png": "[encoded data removed]",
      "text/plain": [
       "<Figure size 432x288 with 1 Axes>"
      ]
     },
     "metadata": {
      "needs_background": "light"
     },
     "output_type": "display_data"
    }
   ],
   "source": [
    "import numpy as np\n",
    "import cv2\n",
    "import matplotlib.pyplot as plt\n",
    "%matplotlib inline\n",
    "\n",
    "#draw balnk  image\n",
    "blank_img=np.zeros(shape=(512,512,3) , dtype=np.int16)\n",
    "\n",
    "# check shape\n",
    "blank_img.shape\n",
    "plt.imshow(blank_img)\n",
    "\n",
    "#Draw rectangle on that image\n",
    "cv2.rectangle(blank_img,pt1=(100,0),pt2=(400,200) ,color=(0,255,255), thickness=10)\n",
    "plt.imshow(blank_img)"
   ]
  },
  {
   "cell_type": "code",
   "execution_count": 2,
   "metadata": {},
   "outputs": [
    {
     "data": {
      "text/plain": [
       "<matplotlib.image.AxesImage at 0x85c6a0>"
      ]
     },
     "execution_count": 2,
     "metadata": {},
     "output_type": "execute_result"
    },
    {
     "data": {
      "image/png": "[encoded data removed]",
      "text/plain": [
       "<Figure size 432x288 with 1 Axes>"
      ]
     },
     "metadata": {
      "needs_background": "light"
     },
     "output_type": "display_data"
    }
   ],
   "source": [
    "import numpy as np\n",
    "import cv2\n",
    "import matplotlib.pyplot as plt\n",
    "%matplotlib inline\n",
    "\n",
    "#draw balnk  image\n",
    "blank_img=np.zeros(shape=(512,512,3) , dtype=np.int16)\n",
    "\n",
    "# check shape\n",
    "blank_img.shape\n",
    "plt.imshow(blank_img)\n",
    "\n",
    "#Draw rectangle on that image\n",
    "cv2.rectangle(blank_img,pt1=(100,100),pt2=(300,300) ,color=(255,0,255), thickness=10)\n",
    "plt.imshow(blank_img)"
   ]
  },
  {
   "cell_type": "code",
   "execution_count": 3,
   "metadata": {},
   "outputs": [
    {
     "data": {
      "text/plain": [
       "<matplotlib.image.AxesImage at 0x8bf710>"
      ]
     },
     "execution_count": 3,
     "metadata": {},
     "output_type": "execute_result"
    },
    {
     "data": {
      "image/png": "[encoded data removed]",
      "text/plain": [
       "<Figure size 432x288 with 1 Axes>"
      ]
     },
     "metadata": {
      "needs_background": "light"
     },
     "output_type": "display_data"
    }
   ],
   "source": [
    "import numpy as np\n",
    "import cv2\n",
    "import matplotlib.pyplot as plt\n",
    "%matplotlib inline\n",
    "\n",
    "#draw balnk  image\n",
    "blank_img=np.zeros(shape=(512,512,3) , dtype=np.int16)\n",
    "\n",
    "# check shape\n",
    "blank_img.shape\n",
    "plt.imshow(blank_img)\n",
    "\n",
    "#Draw rectangle and circle on that image\n",
    "cv2.rectangle(blank_img,pt1=(100,100),pt2=(300,300) ,color=(255,0,255), thickness=10)\n",
    "cv2.circle(blank_img,center=(300,300) ,color=(255,0,0),radius=50, thickness=5)\n",
    "plt.imshow(blank_img)"
   ]
  },
  {
   "cell_type": "code",
   "execution_count": 5,
   "metadata": {},
   "outputs": [
    {
     "data": {
      "text/plain": [
       "<matplotlib.image.AxesImage at 0x70ab00>"
      ]
     },
     "execution_count": 5,
     "metadata": {},
     "output_type": "execute_result"
    },
    {
     "data": {
      "image/png": "[encoded data removed]",
      "text/plain": [
       "<Figure size 432x288 with 1 Axes>"
      ]
     },
     "metadata": {
      "needs_background": "light"
     },
     "output_type": "display_data"
    }
   ],
   "source": [
    "import numpy as np\n",
    "import cv2\n",
    "import matplotlib.pyplot as plt\n",
    "%matplotlib inline\n",
    "\n",
    "#draw balnk  image\n",
    "blank_img=np.zeros(shape=(512,512,3) , dtype=np.int16)\n",
    "\n",
    "# check shape\n",
    "blank_img.shape\n",
    "plt.imshow(blank_img)\n",
    "\n",
    "#Draw rectangle and circle on that image\n",
    "cv2.rectangle(blank_img,pt1=(100,100),pt2=(300,300) ,color=(0,100,255), thickness=10)\n",
    "cv2.circle(blank_img,center=(300,300) ,color=(255,0,0),radius=50, thickness=-1)\n",
    "plt.imshow(blank_img)"
   ]
  },
  {
   "cell_type": "code",
   "execution_count": null,
   "metadata": {},
   "outputs": [],
   "source": []
  }
 ],
 "metadata": {
  "kernelspec": {
   "display_name": "Python 3",
   "language": "python",
   "name": "python3"
  },
  "language_info": {
   "codemirror_mode": {
    "name": "ipython",
    "version": 3
   },
   "file_extension": ".py",
   "mimetype": "text/x-python",
   "name": "python",
   "nbconvert_exporter": "python",
   "pygments_lexer": "ipython3",
   "version": "3.6.6"
  }
 },
 "nbformat": 4,
 "nbformat_minor": 2
}
